{
 "cells": [
  {
   "cell_type": "markdown",
   "metadata": {
    "id": "G_4Uq9AcI7KL"
   },
   "source": [
    "# Assignment 3"
   ]
  },
  {
   "cell_type": "markdown",
   "metadata": {
    "id": "fr_EGCu-JMed"
   },
   "source": [
    "Please do not change, delete or edit any cells. Write your code in between designated lines."
   ]
  },
  {
   "cell_type": "markdown",
   "metadata": {
    "id": "L69__o06JnIg"
   },
   "source": [
    "## Question 1 (15 points)"
   ]
  },
  {
   "cell_type": "code",
   "execution_count": 25,
   "metadata": {
    "id": "bVAI5ISdJOWR"
   },
   "outputs": [
    {
     "data": {
      "text/plain": [
       "{'Peas': 55, 'Canola': 66, 'Oat': 65}"
      ]
     },
     "execution_count": 25,
     "metadata": {},
     "output_type": "execute_result"
    }
   ],
   "source": [
    "# Create a dictionary named dict1 then add key and values.\n",
    "# When you print output of dict1 will be shown as {'Peas': 55, 'Canola': 66, 'Oat': 65}.\n",
    "\n",
    "## Your code here - down ##\n",
    "dic1 = {}\n",
    "dic1['Peas'] = 55\n",
    "dic1['Canola'] = 66\n",
    "dic1['Oat'] = 65\n",
    "dic1\n",
    "## Your code here - up ##"
   ]
  },
  {
   "cell_type": "code",
   "execution_count": 26,
   "metadata": {
    "id": "962MZgyEKSBw"
   },
   "outputs": [
    {
     "data": {
      "text/plain": [
       "{'Peas': 66, 'Canola': 66, 'Oat': 65}"
      ]
     },
     "execution_count": 26,
     "metadata": {},
     "output_type": "execute_result"
    }
   ],
   "source": [
    "# In this cell you need to change the assigned value of Peas to 66 and print dict1 again.\n",
    "\n",
    "## Your code here - down ##\n",
    "dic1['Peas'] = 66\n",
    "dic1\n",
    "## Your code here - up ##"
   ]
  },
  {
   "cell_type": "code",
   "execution_count": 27,
   "metadata": {
    "id": "ZYkqG-uxKyMe"
   },
   "outputs": [
    {
     "name": "stdout",
     "output_type": "stream",
     "text": [
      "Peas\n",
      "66\n",
      "Canola\n",
      "66\n",
      "Oat\n",
      "65\n"
     ]
    }
   ],
   "source": [
    "# Now use For Loop and print values and key inside dict1. Your output will look like:\n",
    "# Peas\n",
    "# 66\n",
    "# and so on.\n",
    "\n",
    "## Your code here - down ##\n",
    "for key, value in dic1.items():\n",
    "    print(key)\n",
    "    print(value)\n",
    "## Your code here - up ##"
   ]
  },
  {
   "cell_type": "markdown",
   "metadata": {
    "id": "e4Ugu5vNKohg"
   },
   "source": [
    "## Question 2 (30 points)"
   ]
  },
  {
   "cell_type": "code",
   "execution_count": 33,
   "metadata": {
    "id": "1MeSpsIaMFrn"
   },
   "outputs": [
    {
     "name": "stdout",
     "output_type": "stream",
     "text": [
      "[4, 49, 81, 16]\n"
     ]
    }
   ],
   "source": [
    "ls = [2,7,9, 4]\n",
    "\n",
    "# Method 1\n",
    "# Ceate a list that consist of square of ls values.\n",
    "\n",
    "## Your code here - down ##\n",
    "l_square = []\n",
    "for l in ls:\n",
    "   l_square.append(l**2)\n",
    "print(l_square)\n",
    "## Your code here - up ##"
   ]
  },
  {
   "cell_type": "code",
   "execution_count": 34,
   "metadata": {
    "id": "41u-FWnoMpfq"
   },
   "outputs": [
    {
     "data": {
      "text/plain": [
       "[4, 49, 81, 16]"
      ]
     },
     "execution_count": 34,
     "metadata": {},
     "output_type": "execute_result"
    }
   ],
   "source": [
    "# Method 2\n",
    "\n",
    "## Your code here - down ##\n",
    "[l**2 for l in ls]\n",
    "## Your code here - up ##"
   ]
  },
  {
   "cell_type": "markdown",
   "metadata": {
    "id": "eeYzaBCFMwgS"
   },
   "source": [
    "## Question 3 (55 points)"
   ]
  },
  {
   "cell_type": "code",
   "execution_count": 75,
   "metadata": {
    "id": "OXhs3bGZM-Oj"
   },
   "outputs": [
    {
     "name": "stdout",
     "output_type": "stream",
     "text": [
      "(2, 3)\n"
     ]
    }
   ],
   "source": [
    "import numpy as np\n",
    "ar_1 = np.array([[3, 4, 5],\n",
    "                 [3, 4, 5]])\n",
    "\n",
    "# What is shape of the array?\n",
    "\n",
    "## Your code here - down ##\n",
    "ar_1 = np.array([[3, 4, 5],\n",
    "                 [3, 4, 5]])\n",
    "print(ar_1.shape)\n",
    "## Your code here - up ##"
   ]
  },
  {
   "cell_type": "code",
   "execution_count": 72,
   "metadata": {
    "id": "oOm_o0nCNWGD"
   },
   "outputs": [
    {
     "data": {
      "text/plain": [
       "[3, 4, 5]"
      ]
     },
     "execution_count": 72,
     "metadata": {},
     "output_type": "execute_result"
    }
   ],
   "source": [
    "ar_2 = ([[3, 4, 5],\n",
    "         [8, 4, 1]])\n",
    "# Print first row of ar_2\n",
    "\n",
    "## Your code here - down ##\n",
    "ar_2[0]\n",
    "## Your code here - up ##"
   ]
  },
  {
   "cell_type": "code",
   "execution_count": 86,
   "metadata": {
    "id": "y9bfDeDQOBAn"
   },
   "outputs": [
    {
     "ename": "TypeError",
     "evalue": "list indices must be integers or slices, not tuple",
     "output_type": "error",
     "traceback": [
      "\u001b[1;31m---------------------------------------------------------------------------\u001b[0m",
      "\u001b[1;31mTypeError\u001b[0m                                 Traceback (most recent call last)",
      "\u001b[1;32m<ipython-input-86-0bec2fecd0a9>\u001b[0m in \u001b[0;36m<module>\u001b[1;34m\u001b[0m\n\u001b[0;32m      2\u001b[0m \u001b[1;33m\u001b[0m\u001b[0m\n\u001b[0;32m      3\u001b[0m \u001b[1;31m## Your code here - down ##\u001b[0m\u001b[1;33m\u001b[0m\u001b[1;33m\u001b[0m\u001b[1;33m\u001b[0m\u001b[0m\n\u001b[1;32m----> 4\u001b[1;33m \u001b[0mar_2\u001b[0m\u001b[1;33m[\u001b[0m\u001b[1;36m1\u001b[0m\u001b[1;33m,\u001b[0m\u001b[1;36m2\u001b[0m\u001b[1;33m]\u001b[0m\u001b[1;33m\u001b[0m\u001b[1;33m\u001b[0m\u001b[0m\n\u001b[0m\u001b[0;32m      5\u001b[0m \u001b[1;31m## Your code here - up ##\u001b[0m\u001b[1;33m\u001b[0m\u001b[1;33m\u001b[0m\u001b[1;33m\u001b[0m\u001b[0m\n",
      "\u001b[1;31mTypeError\u001b[0m: list indices must be integers or slices, not tuple"
     ]
    }
   ],
   "source": [
    "# Write a code that will print 1 in ar_2.\n",
    "\n",
    "## Your code here - down ##\n",
    "ar_2[1,2]\n",
    "## Your code here - up ##"
   ]
  },
  {
   "cell_type": "code",
   "execution_count": 94,
   "metadata": {
    "id": "qSs9eeJZOPSs"
   },
   "outputs": [
    {
     "data": {
      "text/plain": [
       "4.166666666666667"
      ]
     },
     "execution_count": 94,
     "metadata": {},
     "output_type": "execute_result"
    }
   ],
   "source": [
    "# Print entire mean of ar_2\n",
    "\n",
    "## Your code here - down ##\n",
    "np.mean(ar_2)\n",
    "## Your code here - up ##"
   ]
  },
  {
   "cell_type": "code",
   "execution_count": 92,
   "metadata": {
    "id": "eoWFWqzLOiuP"
   },
   "outputs": [
    {
     "data": {
      "text/plain": [
       "array([4.        , 4.33333333])"
      ]
     },
     "execution_count": 92,
     "metadata": {},
     "output_type": "execute_result"
    }
   ],
   "source": [
    "# Print each columns' mean\n",
    "\n",
    "np.mean(ar_2, axis=1)\n",
    "## Your code here - up ##"
   ]
  },
  {
   "cell_type": "code",
   "execution_count": 89,
   "metadata": {
    "id": "z2JxGSG1OyR1"
   },
   "outputs": [
    {
     "data": {
      "text/plain": [
       "2.1147629234082532"
      ]
     },
     "execution_count": 89,
     "metadata": {},
     "output_type": "execute_result"
    }
   ],
   "source": [
    "# Print entire standard deviation  of ar_2\n",
    "\n",
    "## Your code here - down ##\n",
    "np.std(ar_2)\n",
    "## Your code here - up ##"
   ]
  },
  {
   "cell_type": "code",
   "execution_count": 90,
   "metadata": {
    "id": "MxSBTiL4O4-W"
   },
   "outputs": [
    {
     "data": {
      "text/plain": [
       "array([4.        , 4.33333333])"
      ]
     },
     "execution_count": 90,
     "metadata": {},
     "output_type": "execute_result"
    }
   ],
   "source": [
    "# Print each rows' standard deviation.\n",
    "\n",
    "## Your code here - down ##\n",
    "np.mean(ar_2, axis=1)\n",
    "## Your code here - up ##"
   ]
  },
  {
   "cell_type": "code",
   "execution_count": 97,
   "metadata": {
    "id": "XF4u_fPtPBAX"
   },
   "outputs": [
    {
     "data": {
      "text/plain": [
       "0.16666666666666696"
      ]
     },
     "execution_count": 97,
     "metadata": {},
     "output_type": "execute_result"
    }
   ],
   "source": [
    "# Find the difference between mean and median of entire ar_2.\n",
    "\n",
    "## Your code here - down ##\n",
    "np.mean(ar_2)-np.median(ar_2)\n",
    "## Your code here - up ##"
   ]
  },
  {
   "cell_type": "markdown",
   "metadata": {
    "id": "ziac1rfuPp8H"
   },
   "source": [
    "Are mean and median same? If they are different, explain what does that mean.\n",
    "\n",
    "Please explain below in this cell only.\n"
   ]
  }
 ],
 "metadata": {
  "colab": {
   "provenance": []
  },
  "kernelspec": {
   "display_name": "Python 3",
   "language": "python",
   "name": "python3"
  },
  "language_info": {
   "codemirror_mode": {
    "name": "ipython",
    "version": 3
   },
   "file_extension": ".py",
   "mimetype": "text/x-python",
   "name": "python",
   "nbconvert_exporter": "python",
   "pygments_lexer": "ipython3",
   "version": "3.7.4"
  }
 },
 "nbformat": 4,
 "nbformat_minor": 1
}
