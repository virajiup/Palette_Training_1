{
 "cells": [
  {
   "cell_type": "markdown",
   "metadata": {
    "id": "xRFQJjmAgPPv"
   },
   "source": [
    "# Assignment 4"
   ]
  },
  {
   "cell_type": "markdown",
   "metadata": {
    "id": "eLY9HOokgoNX"
   },
   "source": [
    "\n",
    "Please do not change, delete or edit any cells. Write your code in between designated lines."
   ]
  },
  {
   "cell_type": "markdown",
   "metadata": {
    "id": "0iiZnyE_hHm4"
   },
   "source": [
    "## Question 1 (25 points)"
   ]
  },
  {
   "cell_type": "code",
   "execution_count": null,
   "metadata": {
    "id": "jwfycLiWgVa0"
   },
   "outputs": [],
   "source": [
    "# Please go to Palette_training_4 GitHub repo and \n",
    "# 1. Read Sask_RM_data.csv.\n",
    "# 2. Rename column namse Crop Year, Canola - bu/ac, Spring Wheat - bu/ac with\n",
    "# Year, Canola, SpringWheat respectively."
   ]
  },
  {
   "cell_type": "code",
   "execution_count": 13,
   "metadata": {
    "id": "1SX-x2rqkvbV"
   },
   "outputs": [
    {
     "data": {
      "text/html": [
       "<div>\n",
       "<style scoped>\n",
       "    .dataframe tbody tr th:only-of-type {\n",
       "        vertical-align: middle;\n",
       "    }\n",
       "\n",
       "    .dataframe tbody tr th {\n",
       "        vertical-align: top;\n",
       "    }\n",
       "\n",
       "    .dataframe thead th {\n",
       "        text-align: right;\n",
       "    }\n",
       "</style>\n",
       "<table border=\"1\" class=\"dataframe\">\n",
       "  <thead>\n",
       "    <tr style=\"text-align: right;\">\n",
       "      <th></th>\n",
       "      <th>Crop Year</th>\n",
       "      <th>RM</th>\n",
       "      <th>Canola - bu/ac</th>\n",
       "      <th>Spring Wheat - bu/ac</th>\n",
       "    </tr>\n",
       "  </thead>\n",
       "  <tbody>\n",
       "    <tr>\n",
       "      <th>0</th>\n",
       "      <td>2012</td>\n",
       "      <td>1</td>\n",
       "      <td>22.3</td>\n",
       "      <td>36.2</td>\n",
       "    </tr>\n",
       "    <tr>\n",
       "      <th>1</th>\n",
       "      <td>2012</td>\n",
       "      <td>2</td>\n",
       "      <td>28.6</td>\n",
       "      <td>37.2</td>\n",
       "    </tr>\n",
       "    <tr>\n",
       "      <th>2</th>\n",
       "      <td>2012</td>\n",
       "      <td>3</td>\n",
       "      <td>25.1</td>\n",
       "      <td>39.4</td>\n",
       "    </tr>\n",
       "    <tr>\n",
       "      <th>3</th>\n",
       "      <td>2012</td>\n",
       "      <td>4</td>\n",
       "      <td>21.6</td>\n",
       "      <td>31.6</td>\n",
       "    </tr>\n",
       "    <tr>\n",
       "      <th>4</th>\n",
       "      <td>2012</td>\n",
       "      <td>5</td>\n",
       "      <td>26.8</td>\n",
       "      <td>29.0</td>\n",
       "    </tr>\n",
       "  </tbody>\n",
       "</table>\n",
       "</div>"
      ],
      "text/plain": [
       "   Crop Year  RM  Canola - bu/ac  Spring Wheat - bu/ac\n",
       "0       2012   1            22.3                  36.2\n",
       "1       2012   2            28.6                  37.2\n",
       "2       2012   3            25.1                  39.4\n",
       "3       2012   4            21.6                  31.6\n",
       "4       2012   5            26.8                  29.0"
      ]
     },
     "execution_count": 13,
     "metadata": {},
     "output_type": "execute_result"
    }
   ],
   "source": [
    "# 1. Read csv file by using pandas \n",
    "\n",
    "## Your code here - down ##\n",
    "import pandas as pd # Library for data handling\n",
    "import numpy as np # matrix operations\n",
    "import matplotlib.pyplot as plt\n",
    "import seaborn as sb\n",
    "plt.rcParams['figure.figsize'] = (20, 12)\n",
    "df = pd.read_csv('Sask_RM_Data.csv')\n",
    "df.head()\n",
    "## Your code here - up ##"
   ]
  },
  {
   "cell_type": "code",
   "execution_count": 15,
   "metadata": {
    "id": "cdGqn-qvksVg"
   },
   "outputs": [
    {
     "data": {
      "text/html": [
       "<div>\n",
       "<style scoped>\n",
       "    .dataframe tbody tr th:only-of-type {\n",
       "        vertical-align: middle;\n",
       "    }\n",
       "\n",
       "    .dataframe tbody tr th {\n",
       "        vertical-align: top;\n",
       "    }\n",
       "\n",
       "    .dataframe thead th {\n",
       "        text-align: right;\n",
       "    }\n",
       "</style>\n",
       "<table border=\"1\" class=\"dataframe\">\n",
       "  <thead>\n",
       "    <tr style=\"text-align: right;\">\n",
       "      <th></th>\n",
       "      <th>Year</th>\n",
       "      <th>RM</th>\n",
       "      <th>Canola</th>\n",
       "      <th>SpringWheat</th>\n",
       "    </tr>\n",
       "  </thead>\n",
       "  <tbody>\n",
       "    <tr>\n",
       "      <th>0</th>\n",
       "      <td>2012</td>\n",
       "      <td>1</td>\n",
       "      <td>22.3</td>\n",
       "      <td>36.2</td>\n",
       "    </tr>\n",
       "    <tr>\n",
       "      <th>1</th>\n",
       "      <td>2012</td>\n",
       "      <td>2</td>\n",
       "      <td>28.6</td>\n",
       "      <td>37.2</td>\n",
       "    </tr>\n",
       "    <tr>\n",
       "      <th>2</th>\n",
       "      <td>2012</td>\n",
       "      <td>3</td>\n",
       "      <td>25.1</td>\n",
       "      <td>39.4</td>\n",
       "    </tr>\n",
       "    <tr>\n",
       "      <th>3</th>\n",
       "      <td>2012</td>\n",
       "      <td>4</td>\n",
       "      <td>21.6</td>\n",
       "      <td>31.6</td>\n",
       "    </tr>\n",
       "    <tr>\n",
       "      <th>4</th>\n",
       "      <td>2012</td>\n",
       "      <td>5</td>\n",
       "      <td>26.8</td>\n",
       "      <td>29.0</td>\n",
       "    </tr>\n",
       "    <tr>\n",
       "      <th>...</th>\n",
       "      <td>...</td>\n",
       "      <td>...</td>\n",
       "      <td>...</td>\n",
       "      <td>...</td>\n",
       "    </tr>\n",
       "    <tr>\n",
       "      <th>2945</th>\n",
       "      <td>2021</td>\n",
       "      <td>520</td>\n",
       "      <td>36.6</td>\n",
       "      <td>46.9</td>\n",
       "    </tr>\n",
       "    <tr>\n",
       "      <th>2946</th>\n",
       "      <td>2021</td>\n",
       "      <td>555</td>\n",
       "      <td>36.9</td>\n",
       "      <td>54.1</td>\n",
       "    </tr>\n",
       "    <tr>\n",
       "      <th>2947</th>\n",
       "      <td>2021</td>\n",
       "      <td>561</td>\n",
       "      <td>26.8</td>\n",
       "      <td>47.6</td>\n",
       "    </tr>\n",
       "    <tr>\n",
       "      <th>2948</th>\n",
       "      <td>2021</td>\n",
       "      <td>588</td>\n",
       "      <td>30.2</td>\n",
       "      <td>46.1</td>\n",
       "    </tr>\n",
       "    <tr>\n",
       "      <th>2949</th>\n",
       "      <td>2021</td>\n",
       "      <td>622</td>\n",
       "      <td>23.9</td>\n",
       "      <td>17.0</td>\n",
       "    </tr>\n",
       "  </tbody>\n",
       "</table>\n",
       "<p>2950 rows × 4 columns</p>\n",
       "</div>"
      ],
      "text/plain": [
       "      Year   RM  Canola  SpringWheat\n",
       "0     2012    1    22.3         36.2\n",
       "1     2012    2    28.6         37.2\n",
       "2     2012    3    25.1         39.4\n",
       "3     2012    4    21.6         31.6\n",
       "4     2012    5    26.8         29.0\n",
       "...    ...  ...     ...          ...\n",
       "2945  2021  520    36.6         46.9\n",
       "2946  2021  555    36.9         54.1\n",
       "2947  2021  561    26.8         47.6\n",
       "2948  2021  588    30.2         46.1\n",
       "2949  2021  622    23.9         17.0\n",
       "\n",
       "[2950 rows x 4 columns]"
      ]
     },
     "execution_count": 15,
     "metadata": {},
     "output_type": "execute_result"
    }
   ],
   "source": [
    "# 2. Rename columns\n",
    "\n",
    "## Your code here - down ##\n",
    "\n",
    "df.rename(columns={\"Crop Year\": \"Year\",\"Canola - bu/ac\": \"Canola\", \"Spring Wheat - bu/ac\": \"SpringWheat\" })\n",
    "## Your code here - up ##"
   ]
  },
  {
   "cell_type": "markdown",
   "metadata": {
    "id": "CVL1VhWNj06v"
   },
   "source": [
    "Question 2 (65 points)"
   ]
  },
  {
   "cell_type": "code",
   "execution_count": 5,
   "metadata": {
    "id": "obXacM3uiCcE"
   },
   "outputs": [
    {
     "data": {
      "text/plain": [
       "Crop Year                0\n",
       "RM                       0\n",
       "Canola - bu/ac          45\n",
       "Spring Wheat - bu/ac    51\n",
       "dtype: int64"
      ]
     },
     "execution_count": 5,
     "metadata": {},
     "output_type": "execute_result"
    }
   ],
   "source": [
    "# 1. How many missing values in each column? \n",
    "\n",
    "## Your code here - down ##\n",
    "df.isna().sum()\n",
    "## Your code here - up ##"
   ]
  },
  {
   "cell_type": "code",
   "execution_count": 22,
   "metadata": {
    "id": "wNZcRd9bkhTS"
   },
   "outputs": [
    {
     "data": {
      "text/plain": [
       "array([  1,   2,   3,   4,   5,   6,   7,   8,   9,  10,  11,  12,  17,\n",
       "        18,  19,  31,  32,  33,  34,  35,  36,  37,  38,  39,  40,  42,\n",
       "        43,  44,  45,  46,  49,  51,  61,  63,  64,  65,  66,  67,  68,\n",
       "        69,  70,  71,  72,  73,  74,  75,  76,  77,  78,  79,  91,  92,\n",
       "        93,  94,  95,  96,  97,  98,  99, 100, 101, 102, 103, 104, 105,\n",
       "       106, 107, 108, 109, 110, 111, 121, 122, 123, 124, 125, 126, 127,\n",
       "       128, 129, 130, 131, 132, 133, 134, 135, 136, 137, 138, 139, 141,\n",
       "       142, 151, 152, 153, 154, 155, 156, 157, 158, 159, 160, 161, 162,\n",
       "       163, 164, 165, 166, 167, 168, 169, 171, 181, 183, 184, 185, 186,\n",
       "       187, 189, 190, 191, 193, 194, 211, 213, 214, 215, 216, 217, 218,\n",
       "       219, 220, 221, 222, 223, 224, 225, 226, 228, 229, 230, 231, 232,\n",
       "       241, 243, 244, 245, 246, 247, 248, 250, 251, 252, 253, 254, 255,\n",
       "       256, 257, 259, 260, 261, 271, 273, 274, 275, 276, 277, 279, 280,\n",
       "       281, 282, 283, 284, 285, 286, 287, 288, 290, 292, 301, 303, 304,\n",
       "       305, 307, 308, 309, 310, 312, 313, 314, 315, 316, 317, 318, 319,\n",
       "       320, 321, 322, 331, 333, 334, 335, 336, 337, 338, 339, 340, 341,\n",
       "       342, 343, 344, 345, 346, 347, 349, 350, 351, 352, 366, 367, 368,\n",
       "       369, 370, 371, 372, 373, 376, 377, 378, 379, 380, 381, 382, 394,\n",
       "       395, 397, 398, 399, 400, 401, 402, 403, 404, 405, 406, 409, 410,\n",
       "       411, 426, 427, 428, 429, 430, 431, 434, 435, 436, 437, 438, 439,\n",
       "       440, 442, 456, 457, 458, 459, 460, 461, 463, 464, 466, 467, 468,\n",
       "       469, 470, 471, 472, 486, 487, 488, 490, 491, 493, 494, 496, 497,\n",
       "       498, 499, 501, 502, 520, 555, 561, 588, 622], dtype=int64)"
      ]
     },
     "execution_count": 22,
     "metadata": {},
     "output_type": "execute_result"
    }
   ],
   "source": [
    "# 2. Find unique values of RMs(Rural Municipalities).\n",
    "\n",
    "## Your code here - down ##\n",
    "df['RM'].unique()\n",
    "## Your code here - up ##"
   ]
  },
  {
   "cell_type": "code",
   "execution_count": 37,
   "metadata": {
    "id": "X-7AiMCZkiji"
   },
   "outputs": [
    {
     "data": {
      "text/plain": [
       "RM\n",
       "1      39.9\n",
       "2      41.3\n",
       "3      37.3\n",
       "4      39.1\n",
       "5      35.1\n",
       "       ... \n",
       "520    48.1\n",
       "555    50.4\n",
       "561    50.3\n",
       "588    48.1\n",
       "622    48.6\n",
       "Name: Canola - bu/ac, Length: 295, dtype: float64"
      ]
     },
     "execution_count": 37,
     "metadata": {},
     "output_type": "execute_result"
    }
   ],
   "source": [
    "# 3. Use groupby() and find top 10 RMs in terms of average Canola yield through 10 years.\n",
    "\n",
    "## Your code here - down ##\n",
    "df.groupby('RM')['Canola - bu/ac'].max()\n",
    "## Your code here - up ##"
   ]
  },
  {
   "cell_type": "code",
   "execution_count": 38,
   "metadata": {
    "id": "JqIEftfSmJha"
   },
   "outputs": [
    {
     "data": {
      "text/plain": [
       "RM\n",
       "1      34.32\n",
       "2      36.63\n",
       "3      36.46\n",
       "4      28.78\n",
       "5      26.50\n",
       "       ...  \n",
       "520    38.26\n",
       "555    42.80\n",
       "561    31.71\n",
       "588    41.73\n",
       "622    17.00\n",
       "Name: Spring Wheat - bu/ac, Length: 295, dtype: float64"
      ]
     },
     "execution_count": 38,
     "metadata": {},
     "output_type": "execute_result"
    }
   ],
   "source": [
    "# 4. Use groupby() function and find worst 10 RMs in terms of average Spring Wheat through 10 years.\n",
    "\n",
    "## Your code here - down ##\n",
    "df.groupby('RM')['Spring Wheat - bu/ac'].min()\n",
    "## Your code here - up ##"
   ]
  },
  {
   "cell_type": "code",
   "execution_count": 24,
   "metadata": {
    "id": "_u735AcFmyKX"
   },
   "outputs": [
    {
     "name": "stdout",
     "output_type": "stream",
     "text": [
      "group     \n",
      "worst 3  9    17.00\n",
      "         4    26.50\n",
      "         3    28.78\n",
      "Name: Spring Wheat - bu/ac, dtype: float64\n"
     ]
    }
   ],
   "source": [
    "# 4. Use groupby() function and find worst 3 best years in terms of average Spring Wheat.\n",
    "\n",
    "## Your code here - down ##\n",
    "df = pd.DataFrame({'Spring Wheat - bu/ac': [34.32, 36.33, 36.46, 28.78, 26.50, 38.26, 42.80, 31.71, 41.73, 17.00], \n",
    "                   'group': ['worst 3']*10})\n",
    "grouped = df.groupby('group')\n",
    "min_3 = grouped['Spring Wheat - bu/ac'].nsmallest(3)\n",
    "\n",
    "print(min_3)\n",
    "## Your code here - up ##"
   ]
  },
  {
   "cell_type": "code",
   "execution_count": 21,
   "metadata": {
    "id": "VIeb0E0SmSYf"
   },
   "outputs": [],
   "source": [
    "# 5. Use groupby() function and find worst 3 years in terms of average Spring Wheat through 10 years.\n",
    "\n",
    "## Your code here - down ##\n",
    "\n",
    "## Your code here - up ##"
   ]
  },
  {
   "cell_type": "markdown",
   "metadata": {
    "id": "jmsH1mGWpu3L"
   },
   "source": [
    "## Question 3 (10 points)"
   ]
  },
  {
   "cell_type": "markdown",
   "metadata": {
    "id": "U6OG5ANHp39Y"
   },
   "source": [
    "This task is independent exploratory data analysis. Find key insights from the dataset and share your code by creating new cells."
   ]
  },
  {
   "cell_type": "code",
   "execution_count": 3,
   "metadata": {},
   "outputs": [
    {
     "data": {
      "text/plain": [
       "RM\n",
       "1      5.808485\n",
       "2      3.803742\n",
       "3      4.054671\n",
       "4      5.180384\n",
       "5      3.400193\n",
       "         ...   \n",
       "520    7.790932\n",
       "555    9.358805\n",
       "561    8.770096\n",
       "588    8.168164\n",
       "622    8.733994\n",
       "Name: Canola - bu/ac, Length: 295, dtype: float64"
      ]
     },
     "execution_count": 3,
     "metadata": {},
     "output_type": "execute_result"
    }
   ],
   "source": [
    "import pandas as pd # Library for data handling\n",
    "df = pd.read_csv('Sask_RM_Data.csv')\n",
    "df.head()\n",
    "df.groupby('RM')['Canola - bu/ac'].std()"
   ]
  },
  {
   "cell_type": "code",
   "execution_count": null,
   "metadata": {},
   "outputs": [],
   "source": []
  }
 ],
 "metadata": {
  "colab": {
   "provenance": []
  },
  "kernelspec": {
   "display_name": "Python 3 (ipykernel)",
   "language": "python",
   "name": "python3"
  },
  "language_info": {
   "codemirror_mode": {
    "name": "ipython",
    "version": 3
   },
   "file_extension": ".py",
   "mimetype": "text/x-python",
   "name": "python",
   "nbconvert_exporter": "python",
   "pygments_lexer": "ipython3",
   "version": "3.9.13"
  }
 },
 "nbformat": 4,
 "nbformat_minor": 1
}
